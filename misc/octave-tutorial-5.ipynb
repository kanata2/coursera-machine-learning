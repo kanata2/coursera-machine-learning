{
 "cells": [
  {
   "cell_type": "code",
   "execution_count": 1,
   "metadata": {
    "collapsed": false
   },
   "outputs": [
    {
     "name": "stdout",
     "output_type": "stream",
     "text": [
      "v =\n",
      "\n",
      "   0\n",
      "   0\n",
      "   0\n",
      "   0\n",
      "   0\n",
      "   0\n",
      "   0\n",
      "   0\n",
      "   0\n",
      "   0\n",
      "\n"
     ]
    }
   ],
   "source": [
    "v =zeros(10, 1)"
   ]
  },
  {
   "cell_type": "code",
   "execution_count": 2,
   "metadata": {
    "collapsed": false
   },
   "outputs": [
    {
     "name": "stdout",
     "output_type": "stream",
     "text": [
      "v =\n",
      "\n",
      "      2\n",
      "      4\n",
      "      8\n",
      "     16\n",
      "     32\n",
      "     64\n",
      "    128\n",
      "    256\n",
      "    512\n",
      "   1024\n",
      "\n"
     ]
    }
   ],
   "source": [
    "for i=1:10,\n",
    "  v(i) = 2^i;\n",
    "end;\n",
    "v"
   ]
  },
  {
   "cell_type": "code",
   "execution_count": 4,
   "metadata": {
    "collapsed": false
   },
   "outputs": [
    {
     "name": "stdout",
     "output_type": "stream",
     "text": [
      "indices =\n",
      "\n",
      "    1    2    3    4    5    6    7    8    9   10\n",
      "\n"
     ]
    }
   ],
   "source": [
    "indices = 1:10"
   ]
  },
  {
   "cell_type": "code",
   "execution_count": 5,
   "metadata": {
    "collapsed": false
   },
   "outputs": [
    {
     "name": "stdout",
     "output_type": "stream",
     "text": [
      " 1\n",
      " 2\n",
      " 3\n",
      " 4\n",
      " 5\n",
      " 6\n",
      " 7\n",
      " 8\n",
      " 9\n",
      " 10\n"
     ]
    }
   ],
   "source": [
    "for i = indices,\n",
    "  disp(i);\n",
    "end;"
   ]
  },
  {
   "cell_type": "code",
   "execution_count": 6,
   "metadata": {
    "collapsed": false
   },
   "outputs": [
    {
     "name": "stdout",
     "output_type": "stream",
     "text": [
      "v =\n",
      "\n",
      "    100\n",
      "    100\n",
      "    100\n",
      "    100\n",
      "    100\n",
      "     64\n",
      "    128\n",
      "    256\n",
      "    512\n",
      "   1024\n",
      "\n"
     ]
    }
   ],
   "source": [
    "i = 1;\n",
    "while i <= 5,\n",
    "  v(i) = 100;\n",
    "  i += 1;\n",
    "end;\n",
    "v"
   ]
  },
  {
   "cell_type": "code",
   "execution_count": 7,
   "metadata": {
    "collapsed": false
   },
   "outputs": [
    {
     "name": "stdout",
     "output_type": "stream",
     "text": [
      "v =\n",
      "\n",
      "    999\n",
      "    999\n",
      "    999\n",
      "    999\n",
      "    999\n",
      "     64\n",
      "    128\n",
      "    256\n",
      "    512\n",
      "   1024\n",
      "\n"
     ]
    }
   ],
   "source": [
    "i = 1;\n",
    "while true,\n",
    "  v(i) = 999;\n",
    "  i  += 1;\n",
    "  if i == 6,\n",
    "    break;\n",
    "  end;\n",
    "end;\n",
    "v"
   ]
  },
  {
   "cell_type": "code",
   "execution_count": 10,
   "metadata": {
    "collapsed": false
   },
   "outputs": [],
   "source": [
    "function SquareThisNumber(x)\n",
    "  y = x^2\n",
    "endfunction"
   ]
  },
  {
   "cell_type": "code",
   "execution_count": 11,
   "metadata": {
    "collapsed": false
   },
   "outputs": [
    {
     "name": "stdout",
     "output_type": "stream",
     "text": [
      "y =  25\n"
     ]
    }
   ],
   "source": [
    "SquareThisNumber(5)"
   ]
  },
  {
   "cell_type": "code",
   "execution_count": 17,
   "metadata": {
    "collapsed": true
   },
   "outputs": [],
   "source": [
    "X = [1 1; 1 2; 1 3];\n",
    "y = [1; 2; 3];\n",
    "theta = [0; 1];"
   ]
  },
  {
   "cell_type": "code",
   "execution_count": 20,
   "metadata": {
    "collapsed": false
   },
   "outputs": [],
   "source": [
    "function costFunction(X, y, theta)\n",
    "  m = size(X, 1);\n",
    "  predictions = X*theta;\n",
    "  sqrErrors = (predictions - y).^2;\n",
    "  J =1/(2*m) * sum(sqrErrors)\n",
    "endfunction"
   ]
  },
  {
   "cell_type": "code",
   "execution_count": 21,
   "metadata": {
    "collapsed": false
   },
   "outputs": [
    {
     "name": "stdout",
     "output_type": "stream",
     "text": [
      "J = 0\n"
     ]
    }
   ],
   "source": [
    "costFunction(X, y, theta)"
   ]
  },
  {
   "cell_type": "code",
   "execution_count": 22,
   "metadata": {
    "collapsed": false
   },
   "outputs": [
    {
     "name": "stdout",
     "output_type": "stream",
     "text": [
      "J =  2.3333\n"
     ]
    }
   ],
   "source": [
    "theta = [0; 0];\n",
    "costFunction(X, y, theta)"
   ]
  }
 ],
 "metadata": {
  "kernelspec": {
   "display_name": "Octave",
   "language": "octave",
   "name": "octave"
  },
  "language_info": {
   "file_extension": ".m",
   "help_links": [
    {
     "text": "GNU Octave",
     "url": "https://www.gnu.org/software/octave/support.html"
    },
    {
     "text": "Octave Kernel",
     "url": "https://github.com/Calysto/octave_kernel"
    },
    {
     "text": "MetaKernel Magics",
     "url": "https://github.com/calysto/metakernel/blob/master/metakernel/magics/README.md"
    }
   ],
   "mimetype": "text/x-octave",
   "name": "octave",
   "version": "4.2.0"
  }
 },
 "nbformat": 4,
 "nbformat_minor": 2
}
